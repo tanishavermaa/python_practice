{
 "cells": [
  {
   "cell_type": "markdown",
   "id": "16c6c4d8-00f0-41e2-afd9-6469d4708817",
   "metadata": {},
   "source": [
    "# Modular Coding"
   ]
  },
  {
   "cell_type": "markdown",
   "id": "faa9eed9-91f1-430e-9081-2f803c268323",
   "metadata": {},
   "source": [
    "## 1. Functions"
   ]
  },
  {
   "cell_type": "markdown",
   "id": "6bc8d720-6264-45d7-be97-538d85031f03",
   "metadata": {},
   "source": [
    "In python, functions are basically a block of code which can be reused at any time in an organised format and make programs much easir to understand and manage."
   ]
  },
  {
   "cell_type": "code",
   "execution_count": 3,
   "id": "8afa6f24-d424-441d-b362-1cb31bff5d5d",
   "metadata": {},
   "outputs": [],
   "source": [
    "def greet(name):\n",
    "    \"\"\"This function greets the person passed in as 'name'.\"\"\"\n",
    "    print(f\"Hello, {name}!\")\n"
   ]
  },
  {
   "cell_type": "code",
   "execution_count": 4,
   "id": "2a1165a5-fd5b-4da3-b27e-cc4afaf55a51",
   "metadata": {},
   "outputs": [
    {
     "name": "stdout",
     "output_type": "stream",
     "text": [
      "Hello, Alice!\n"
     ]
    }
   ],
   "source": [
    "greet(\"Alice\")\n"
   ]
  },
  {
   "cell_type": "markdown",
   "id": "f4630d2d-7976-47ae-8929-b47adc86988e",
   "metadata": {},
   "source": [
    "Like in this example, def is a keyword for creating or defining functions followed by the name of the function and a parenthesis after that.Under the indented block of function comes the function body or the task to perform and in the next cell we have called the function to run that block of code by writing name of the function and passimng input parameter if any."
   ]
  },
  {
   "cell_type": "code",
   "execution_count": 5,
   "id": "ee5782b6-251f-47fd-bfad-cbb279402385",
   "metadata": {},
   "outputs": [],
   "source": [
    "def add(a, b):\n",
    "    \"\"\"This function adds two numbers and returns the result.\"\"\"\n",
    "    result = a + b\n",
    "    return result\n"
   ]
  },
  {
   "cell_type": "code",
   "execution_count": 7,
   "id": "ec47544d-cac9-498b-b557-b71403ea1f39",
   "metadata": {},
   "outputs": [
    {
     "data": {
      "text/plain": [
       "8"
      ]
     },
     "execution_count": 7,
     "metadata": {},
     "output_type": "execute_result"
    }
   ],
   "source": [
    "add(5, 3)\n"
   ]
  },
  {
   "cell_type": "markdown",
   "id": "f224e1df-9296-4f2f-85a2-65fbb3f36003",
   "metadata": {},
   "source": [
    "We can use the return keyword to return anything by the function unlike the first example where we have printed the value using print keyword here, in this example, we have used the return keyword to directly return the values."
   ]
  },
  {
   "cell_type": "code",
   "execution_count": 8,
   "id": "25c7eafb-cd77-44b7-8b98-65426f05428e",
   "metadata": {},
   "outputs": [
    {
     "name": "stdout",
     "output_type": "stream",
     "text": [
      "Hello, Guest!\n",
      "Hello, Alice!\n"
     ]
    }
   ],
   "source": [
    "def greet_with_default(name=\"Guest\"):\n",
    "    \"\"\"This function greets the person passed in as 'name' or 'Guest' if no name is provided.\"\"\"\n",
    "    print(f\"Hello, {name}!\")\n",
    "\n",
    "greet_with_default()         \n",
    "greet_with_default(\"Alice\")   \n"
   ]
  },
  {
   "cell_type": "markdown",
   "id": "f1459a38-1566-4471-afe6-896b20ed1034",
   "metadata": {},
   "source": [
    "In this example we can also use default parameters as an input parameter when no input is given it uses the default value and perform the task."
   ]
  },
  {
   "cell_type": "code",
   "execution_count": 9,
   "id": "f31e448c-716d-4934-80e5-e6172bcc9e07",
   "metadata": {},
   "outputs": [
    {
     "name": "stdout",
     "output_type": "stream",
     "text": [
      "15\n"
     ]
    }
   ],
   "source": [
    "def add_all(*args):\n",
    "    \"\"\"This function adds all the numbers passed as arguments.\"\"\"\n",
    "    total = 0\n",
    "    for num in args:\n",
    "        total += num\n",
    "    return total\n",
    "\n",
    "result = add_all(1, 2, 3, 4, 5)\n",
    "print(result)  \n"
   ]
  },
  {
   "cell_type": "markdown",
   "id": "d997c84b-f3cd-464b-996e-686927d5110c",
   "metadata": {},
   "source": [
    "Python allows you to define functions with variable-length arguments using *args and keyword arguments using **kwargs. This can be useful when you want to work with an arbitrary number of arguments."
   ]
  },
  {
   "cell_type": "markdown",
   "id": "e5b060ca-54c0-416b-a97c-71bd39923c7c",
   "metadata": {},
   "source": [
    "*args (Arbitrary Positional Arguments):\n",
    "The *args syntax allows a function to accept a variable number of non-keyword (positional) arguments.\n",
    "These arguments are collected into a tuple inside the function, allowing you to iterate over them or perform other operations.\n",
    "\n",
    "\n",
    "**kwargs (Arbitrary Keyword Arguments):\n",
    "The **kwargs syntax allows a function to accept a variable number of keyword arguments.\n",
    "These arguments are collected into a dictionary inside the function, where the keys are the argument names and the values are the corresponding values."
   ]
  },
  {
   "cell_type": "code",
   "execution_count": 11,
   "id": "8009d52a-b30d-4acc-abd6-427f1dcdf373",
   "metadata": {},
   "outputs": [
    {
     "name": "stdout",
     "output_type": "stream",
     "text": [
      "name: Alice\n",
      "age: 30\n",
      "city: Wonderland\n"
     ]
    }
   ],
   "source": [
    "def print_info(**kwargs):\n",
    "    for key, value in kwargs.items():\n",
    "        print(f\"{key}: {value}\")\n",
    "\n",
    "print_info(name=\"Alice\", age=30, city=\"Wonderland\")\n"
   ]
  },
  {
   "cell_type": "markdown",
   "id": "cd459ceb-43fd-43e0-b4de-b302ba13edec",
   "metadata": {},
   "source": [
    "We can also use both args and kwargs in a same function."
   ]
  },
  {
   "cell_type": "code",
   "execution_count": 10,
   "id": "1ec4a8d0-aad5-41e0-b557-5ae8af998df7",
   "metadata": {},
   "outputs": [
    {
     "name": "stdout",
     "output_type": "stream",
     "text": [
      "10\n"
     ]
    }
   ],
   "source": [
    "double = lambda x: x * 2\n",
    "print(double(5)) \n"
   ]
  },
  {
   "cell_type": "markdown",
   "id": "e69de00c-a630-4060-bf4a-a647088f2296",
   "metadata": {},
   "source": [
    "Lambda functions are small, anonymous functions defined using the lambda keyword. They are often used for simple operations."
   ]
  },
  {
   "cell_type": "markdown",
   "id": "3e428795-1648-4ad6-9f02-8ec79f632628",
   "metadata": {},
   "source": [
    "## Decorators"
   ]
  },
  {
   "cell_type": "markdown",
   "id": "10ee1285-d7b0-4cdf-96e2-ccf74c6ef8c2",
   "metadata": {},
   "source": [
    "Decorators are a powerful and flexible way to modify or enhance the behavior of functions or methods without changing their code. Decorators are often used for tasks like logging, access control, and performance optimization. Decorators are themselves functions that take another function as input and return a new function that usually extends or modifies the behavior of the original function. Decorators use the \"@\" symbol followed by the decorator function name just above the function to be decorated."
   ]
  },
  {
   "cell_type": "code",
   "execution_count": 12,
   "id": "4f992972-59d7-4bb0-bcd4-54d7833b80da",
   "metadata": {},
   "outputs": [
    {
     "name": "stdout",
     "output_type": "stream",
     "text": [
      "Something is happening before the function is called.\n",
      "Hello!\n",
      "Something is happening after the function is called.\n"
     ]
    }
   ],
   "source": [
    "def my_decorator(func):\n",
    "    def wrapper():\n",
    "        print(\"Something is happening before the function is called.\")\n",
    "        func()\n",
    "        print(\"Something is happening after the function is called.\")\n",
    "    return wrapper\n",
    "\n",
    "@my_decorator\n",
    "def say_hello():\n",
    "    print(\"Hello!\")\n",
    "\n",
    "say_hello()\n"
   ]
  },
  {
   "cell_type": "markdown",
   "id": "1303d7c4-fe2d-403c-b7c8-6861dd9ea17b",
   "metadata": {},
   "source": [
    "my_decorator is a decorator function that takes another function func as its argument.\n",
    "wrapper is an inner function within the decorator that wraps around the original function.\n",
    "The say_hello function is decorated with @my_decorator.\n",
    "When you call say_hello(), it actually invokes the wrapper function, which adds behavior before and after the original say_hello function."
   ]
  },
  {
   "cell_type": "markdown",
   "id": "e4ab2625-b658-410e-bffc-6b9868ee1070",
   "metadata": {},
   "source": [
    "## Common use cases for decorators include:\n",
    "\n",
    "Logging: \n",
    "Adding logging statements before and after function calls.\n",
    "Authentication and Authorization: \n",
    "Checking if a user is logged in or has the necessary permissions.\n",
    "Caching:\n",
    "Storing the results of expensive function calls for reuse.\n",
    "Timing: \n",
    "Measuring the time taken for a function to execute.\n",
    "Validation: Checking the validity of function arguments before execution."
   ]
  },
  {
   "cell_type": "markdown",
   "id": "6e11a2a0-f302-431b-a7ad-28bcbc976922",
   "metadata": {},
   "source": [
    "Decorators are a powerful tool in Python for adding functionality to functions and methods in a clean and modular way. You can also stack multiple decorators on top of a single function to apply multiple modifications."
   ]
  },
  {
   "cell_type": "markdown",
   "id": "3d72c5d3-101f-4752-9f73-63cee3f23fd8",
   "metadata": {},
   "source": [
    "example of a decorator that measures the time taken by a function:"
   ]
  },
  {
   "cell_type": "code",
   "execution_count": 13,
   "id": "ace6f093-f170-4aac-adfc-45807251916b",
   "metadata": {},
   "outputs": [
    {
     "name": "stdout",
     "output_type": "stream",
     "text": [
      "slow_function took 2.00 seconds to execute.\n"
     ]
    }
   ],
   "source": [
    "import time\n",
    "\n",
    "def timing_decorator(func):\n",
    "    def wrapper(*args, **kwargs):\n",
    "        start_time = time.time()\n",
    "        result = func(*args, **kwargs)\n",
    "        end_time = time.time()\n",
    "        print(f\"{func.__name__} took {end_time - start_time:.2f} seconds to execute.\")\n",
    "        return result\n",
    "    return wrapper\n",
    "\n",
    "@timing_decorator\n",
    "def slow_function():\n",
    "    time.sleep(2)\n",
    "\n",
    "slow_function()\n"
   ]
  },
  {
   "cell_type": "markdown",
   "id": "00c4b610-4615-49ab-828d-f729391e7473",
   "metadata": {},
   "source": [
    "## Magic Methods"
   ]
  },
  {
   "cell_type": "markdown",
   "id": "53fddaa9-8aab-400f-a387-92b71213c754",
   "metadata": {},
   "source": [
    "Magic methods (also known as dunder methods, short for \"double underscore\" methods) are special methods that have double underscores at the beginning and end of their names, such as __init__, __str__, __add__, and many others. These methods provide a way to define how objects of a class behave in certain situations or when certain operations are performed on them."
   ]
  },
  {
   "cell_type": "markdown",
   "id": "acf26c84-406b-4070-8c50-97c72e439b28",
   "metadata": {},
   "source": [
    "__init__(self, ...): This method is called when an object of the class is created. It initializes the object's attributes."
   ]
  },
  {
   "cell_type": "code",
   "execution_count": 14,
   "id": "c5cb8630-7567-452f-b0b1-a966d81c3a1c",
   "metadata": {},
   "outputs": [],
   "source": [
    "class Person:\n",
    "    def __init__(self, name, age):\n",
    "        self.name = name\n",
    "        self.age = age\n",
    "\n",
    "person = Person(\"Alice\", 30)\n"
   ]
  },
  {
   "cell_type": "markdown",
   "id": "7a2f57ec-0b2e-47d6-b8f3-ea9a250f603b",
   "metadata": {},
   "source": [
    "__str__(self): This method returns a string representation of the object when you use str(obj) or print(obj)."
   ]
  },
  {
   "cell_type": "code",
   "execution_count": 15,
   "id": "27d42002-b6fa-41c5-a8eb-c380076a4f29",
   "metadata": {},
   "outputs": [
    {
     "name": "stdout",
     "output_type": "stream",
     "text": [
      "Alice, 30 years old\n"
     ]
    }
   ],
   "source": [
    "class Person:\n",
    "    def __init__(self, name, age):\n",
    "        self.name = name\n",
    "        self.age = age\n",
    "    \n",
    "    def __str__(self):\n",
    "        return f\"{self.name}, {self.age} years old\"\n",
    "\n",
    "person = Person(\"Alice\", 30)\n",
    "print(person)  \n"
   ]
  },
  {
   "cell_type": "markdown",
   "id": "59423c0d-07ae-4784-888b-ffca6c030866",
   "metadata": {},
   "source": [
    "## Modules & Packages"
   ]
  },
  {
   "cell_type": "markdown",
   "id": "6b1d32c7-38f7-4b31-91eb-4869fd8cc458",
   "metadata": {},
   "source": [
    "A module in Python is a single Python file that can contain functions, variables, and classes. Modules are used to organize related code and can be imported into other Python scripts to reuse their functionality."
   ]
  },
  {
   "cell_type": "code",
   "execution_count": 18,
   "id": "2218efce-1857-4a2a-902c-174213e6bb29",
   "metadata": {},
   "outputs": [
    {
     "ename": "ModuleNotFoundError",
     "evalue": "No module named 'my_module'",
     "output_type": "error",
     "traceback": [
      "\u001b[0;31m---------------------------------------------------------------------------\u001b[0m",
      "\u001b[0;31mModuleNotFoundError\u001b[0m                       Traceback (most recent call last)",
      "Cell \u001b[0;32mIn[18], line 1\u001b[0m\n\u001b[0;32m----> 1\u001b[0m \u001b[38;5;28;01mimport\u001b[39;00m \u001b[38;5;21;01mmy_module\u001b[39;00m\n\u001b[1;32m      3\u001b[0m \u001b[38;5;28mprint\u001b[39m(my_module\u001b[38;5;241m.\u001b[39mgreet(\u001b[38;5;124m\"\u001b[39m\u001b[38;5;124mAlice\u001b[39m\u001b[38;5;124m\"\u001b[39m))\n\u001b[1;32m      4\u001b[0m calc \u001b[38;5;241m=\u001b[39m my_module\u001b[38;5;241m.\u001b[39mCalculator()\n",
      "\u001b[0;31mModuleNotFoundError\u001b[0m: No module named 'my_module'"
     ]
    }
   ],
   "source": [
    "import my_module\n",
    "\n",
    "print(my_module.greet(\"Alice\"))\n",
    "calc = my_module.Calculator()\n",
    "result = calc.add(3, 4)\n",
    "print(result)\n"
   ]
  },
  {
   "cell_type": "markdown",
   "id": "a47a4e27-14df-49f6-a295-34df6d52e097",
   "metadata": {},
   "source": [
    "A package is a collection of related modules organized in a directory hierarchy. Packages are used to group multiple modules together. To create a package, you need to include an __init__.py file in the package directory (this file can be empty or contain package-level initialization code)."
   ]
  },
  {
   "cell_type": "markdown",
   "id": "179df1c9-f8d4-4195-ad52-be44e51cf652",
   "metadata": {},
   "source": [
    "WE can import modules from a package like this:\n",
    "\n",
    "import my_package.module1\n",
    "\n",
    "import my_package.module2\n",
    "\n",
    "result1 = my_package.module1.function1()\n",
    "\n",
    "result2 = my_package.module2.function2()\n"
   ]
  },
  {
   "cell_type": "markdown",
   "id": "238ce702-8962-4520-ae50-37d870539762",
   "metadata": {},
   "source": [
    "### Subpackages"
   ]
  },
  {
   "cell_type": "markdown",
   "id": "1dfae6cb-361a-4d26-8ae8-f309f30ca824",
   "metadata": {},
   "source": [
    "Packages can contain subpackages, creating a nested hierarchy of modules and subpackages. Subpackages are directories that also contain an __init__.py file."
   ]
  },
  {
   "cell_type": "markdown",
   "id": "c6338dda-1ce3-4917-9270-86d9edc6b35b",
   "metadata": {},
   "source": [
    "We can import modules from subpackages in a similar way as before, using dot notation:"
   ]
  },
  {
   "cell_type": "markdown",
   "id": "ad7bdce3-6cff-43de-a2db-10e850e5eeee",
   "metadata": {},
   "source": [
    "import my_package.subpackage.module3\n"
   ]
  },
  {
   "cell_type": "markdown",
   "id": "19f0aa2a-9907-4bf0-a21f-72f05592bda4",
   "metadata": {},
   "source": [
    "Modules and packages are essential for organizing and structuring your Python code, making it more readable and maintainable. They allow you to create reusable and modular components, facilitating code reuse and collaboration in larger projects."
   ]
  },
  {
   "cell_type": "markdown",
   "id": "c56ae229-820e-45cb-b5fb-e06c8a7aba1e",
   "metadata": {},
   "source": [
    "# Constructors"
   ]
  },
  {
   "cell_type": "markdown",
   "id": "54ff9735-2210-4072-a903-50752561d8c8",
   "metadata": {},
   "source": [
    "Constructors are special methods used to initialize objects when you create instances of a class. Constructors are defined using the __init__ method within the class. The __init__ method is automatically called when an object of the class is created, and it allows you to set initial values for the object's attributes."
   ]
  },
  {
   "cell_type": "code",
   "execution_count": 19,
   "id": "ba8cba61-f47b-41fd-884b-023f4840f2a1",
   "metadata": {},
   "outputs": [],
   "source": [
    "class MyClass:\n",
    "    def __init__(self, arg1, arg2):\n",
    "        self.attribute1 = arg1\n",
    "        self.attribute2 = arg2\n"
   ]
  },
  {
   "cell_type": "markdown",
   "id": "4f895e1b-8258-48ac-9266-df93afb0f3d6",
   "metadata": {},
   "source": [
    "__init__ is the constructor for the MyClass class. It takes two arguments, arg1 and arg2, and assigns them as attributes to the object being created.\n"
   ]
  },
  {
   "cell_type": "markdown",
   "id": "9b05a680-8956-4864-8183-582784568095",
   "metadata": {},
   "source": [
    "create an instance of the MyClass class using its constructor:"
   ]
  },
  {
   "cell_type": "code",
   "execution_count": 20,
   "id": "745a50f5-ca5c-4c5a-8ec0-d469166f6424",
   "metadata": {},
   "outputs": [],
   "source": [
    "obj = MyClass(\"value1\", \"value2\")\n"
   ]
  },
  {
   "cell_type": "markdown",
   "id": "04a55e5a-9837-4053-8f94-5c32f01319d4",
   "metadata": {},
   "source": [
    "When you create obj, the __init__ constructor is automatically called with the arguments \"value1\" and \"value2\", and it initializes obj.attribute1 to \"value1\" and obj.attribute2 to \"value2\"."
   ]
  },
  {
   "cell_type": "markdown",
   "id": "1d3b283d-9ced-459c-819b-f0fe51458089",
   "metadata": {},
   "source": [
    "We can also provide default values for constructor arguments to make them optional:"
   ]
  },
  {
   "cell_type": "code",
   "execution_count": 21,
   "id": "60fca2e8-df76-47bb-bd89-8579acd29053",
   "metadata": {},
   "outputs": [],
   "source": [
    "class MyClass:\n",
    "    def __init__(self, arg1=\"default1\", arg2=\"default2\"):\n",
    "        self.attribute1 = arg1\n",
    "        self.attribute2 = arg2\n"
   ]
  },
  {
   "cell_type": "markdown",
   "id": "b14dc6c6-bb17-4b30-ae3a-da25ddc93265",
   "metadata": {},
   "source": [
    "Now, if we create an instance of MyClass without providing arguments, it will use the default values:"
   ]
  },
  {
   "cell_type": "code",
   "execution_count": 22,
   "id": "b0f5e09d-21f9-4eef-8fa7-ac2725f95178",
   "metadata": {},
   "outputs": [],
   "source": [
    "obj = MyClass()  # obj.attribute1 is \"default1\", obj.attribute2 is \"default2\"\n"
   ]
  },
  {
   "cell_type": "markdown",
   "id": "7e2795be-bd4e-41ad-9ea5-877824011ea6",
   "metadata": {},
   "source": [
    "# Classes"
   ]
  },
  {
   "cell_type": "markdown",
   "id": "17d73a6f-f520-4d45-aa3e-5f37d7420c1d",
   "metadata": {},
   "source": [
    "A class is a blueprint or template for creating objects (instances). It defines the structure and behavior that objects created from the class will have. Classes are fundamental to object-oriented programming (OOP) and provide a way to model real-world entities and their interactions in a program. "
   ]
  },
  {
   "cell_type": "markdown",
   "id": "1a89d3db-697a-4060-a8a5-1f29a94d1343",
   "metadata": {},
   "source": [
    "We define a class in Python using the class keyword, followed by the class name and a colon. The class body contains attributes and methods (functions) that define the class's properties and behavior."
   ]
  },
  {
   "cell_type": "code",
   "execution_count": 23,
   "id": "8e5a6085-e12c-4b94-8c15-0832bf9a1af3",
   "metadata": {},
   "outputs": [],
   "source": [
    "class MyClass:\n",
    "   \n",
    "    attribute1 = \"value1\"\n",
    "    attribute2 = \"value2\"\n",
    "    \n",
    "    # Methods (functions)\n",
    "    def method1(self):\n",
    "        \n",
    "        pass\n",
    "    \n",
    "    def method2(self, parameter):\n",
    "        \n",
    "        pass\n"
   ]
  },
  {
   "cell_type": "markdown",
   "id": "e70c712f-fa4f-40ef-8608-631525e88c79",
   "metadata": {},
   "source": [
    "attribute1 and attribute2 are class attributes, which are shared by all instances of the class.\n",
    "method1 and method2 are methods, which are functions defined within the class and can operate on its attributes."
   ]
  },
  {
   "cell_type": "markdown",
   "id": "a1e16621-6979-41a3-8b99-30c1262f16cc",
   "metadata": {},
   "source": [
    "Once we have defined a class, we can create objects (instances) of that class by calling the class as if it were a function:"
   ]
  },
  {
   "cell_type": "code",
   "execution_count": 24,
   "id": "8b651d70-a991-4353-a401-6f8481598186",
   "metadata": {},
   "outputs": [],
   "source": [
    "my_object = MyClass()\n"
   ]
  },
  {
   "cell_type": "markdown",
   "id": "06c220c1-34ff-4851-b828-04bb3f102df2",
   "metadata": {},
   "source": [
    "This creates an instance of MyClass and assigns it to the variable my_object"
   ]
  },
  {
   "cell_type": "markdown",
   "id": "3fff4687-7dfe-4b2f-b708-576cbb933631",
   "metadata": {},
   "source": [
    "we can access the attributes and methods of an object using the dot notation:"
   ]
  },
  {
   "cell_type": "code",
   "execution_count": 28,
   "id": "5d770733-d89f-4ecc-909a-dceedbac4435",
   "metadata": {},
   "outputs": [
    {
     "name": "stdout",
     "output_type": "stream",
     "text": [
      "value1\n"
     ]
    }
   ],
   "source": [
    "print(my_object.attribute1)  # Access attribute1\n",
    "my_object.method1()          # Call method1\n"
   ]
  },
  {
   "cell_type": "markdown",
   "id": "cdacc5f5-1fbd-4377-bfb2-a7db001b8600",
   "metadata": {},
   "source": [
    "The __init__ method is a special method used to initialize the object's attributes when it is created. It's commonly referred to as the constructor."
   ]
  },
  {
   "cell_type": "code",
   "execution_count": 29,
   "id": "9ffdac98-580f-4c13-84a7-cc248224f14f",
   "metadata": {},
   "outputs": [],
   "source": [
    "class MyClass:\n",
    "    def __init__(self, param1, param2):\n",
    "        self.attribute1 = param1\n",
    "        self.attribute2 = param2\n"
   ]
  },
  {
   "cell_type": "code",
   "execution_count": 30,
   "id": "5b195470-3fdb-4730-80db-8ec0a58afd42",
   "metadata": {},
   "outputs": [],
   "source": [
    "my_object = MyClass(\"value1\", \"value2\")\n"
   ]
  },
  {
   "cell_type": "code",
   "execution_count": 32,
   "id": "b7efbc07-0c0c-486b-be65-b8883dac256c",
   "metadata": {},
   "outputs": [
    {
     "data": {
      "text/plain": [
       "'value1'"
      ]
     },
     "execution_count": 32,
     "metadata": {},
     "output_type": "execute_result"
    }
   ],
   "source": [
    "my_object.attribute1"
   ]
  },
  {
   "cell_type": "code",
   "execution_count": 33,
   "id": "45ade781-5c52-423d-99dd-9decc3be71f8",
   "metadata": {},
   "outputs": [
    {
     "data": {
      "text/plain": [
       "'value2'"
      ]
     },
     "execution_count": 33,
     "metadata": {},
     "output_type": "execute_result"
    }
   ],
   "source": [
    "my_object.attribute2"
   ]
  },
  {
   "cell_type": "markdown",
   "id": "42d35fa2-e3da-449f-809c-8fe2e352d3f2",
   "metadata": {},
   "source": [
    "## Inheritance"
   ]
  },
  {
   "cell_type": "markdown",
   "id": "8fcd1bd9-a633-4bb6-b88b-1925e672260e",
   "metadata": {},
   "source": [
    "Python supports class inheritance, where you can create new classes based on existing ones. Inheritance allows you to reuse code and create hierarchies of classes."
   ]
  },
  {
   "cell_type": "code",
   "execution_count": 39,
   "id": "d301c930-98fc-43f2-8fab-74277a7ccda6",
   "metadata": {},
   "outputs": [],
   "source": [
    "class parent:\n",
    "    pass\n",
    "class child(parent):\n",
    "    pass"
   ]
  },
  {
   "cell_type": "markdown",
   "id": "0d563ef0-d0c5-46cd-8e4f-77bcefed50ab",
   "metadata": {},
   "source": [
    "## Encapsulation"
   ]
  },
  {
   "cell_type": "markdown",
   "id": "806f20cf-0024-4a84-b98c-c361ee8101e0",
   "metadata": {},
   "source": [
    "We can use access modifiers like _ and __ to control access to class members. By convention, attributes or methods prefixed with _ are considered protected, and those with __ are considered private."
   ]
  },
  {
   "cell_type": "code",
   "execution_count": 40,
   "id": "40fa7372-ce99-4502-b9d6-6d31d35fa722",
   "metadata": {},
   "outputs": [],
   "source": [
    "class MyClass:\n",
    "    def __init__(self):\n",
    "        self._protected_attribute = 42\n",
    "        self.__private_attribute = \"secret\"\n"
   ]
  },
  {
   "cell_type": "markdown",
   "id": "0749eabb-bc79-4d99-8efe-023370db2df8",
   "metadata": {},
   "source": [
    "Classes in Python are a way to define custom data types with attributes and methods, allowing you to model real-world entities and their interactions in your programs. They are a fundamental concept in object-oriented programming, promoting code organization, reusability, and maintainability."
   ]
  },
  {
   "cell_type": "code",
   "execution_count": null,
   "id": "e47a93b9-c2a8-405b-aba0-3c03c98b6b5e",
   "metadata": {},
   "outputs": [],
   "source": []
  }
 ],
 "metadata": {
  "kernelspec": {
   "display_name": "Python 3 (ipykernel)",
   "language": "python",
   "name": "python3"
  },
  "language_info": {
   "codemirror_mode": {
    "name": "ipython",
    "version": 3
   },
   "file_extension": ".py",
   "mimetype": "text/x-python",
   "name": "python",
   "nbconvert_exporter": "python",
   "pygments_lexer": "ipython3",
   "version": "3.10.8"
  }
 },
 "nbformat": 4,
 "nbformat_minor": 5
}
